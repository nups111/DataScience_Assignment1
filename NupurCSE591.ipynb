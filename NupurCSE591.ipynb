{
 "metadata": {
  "name": "",
  "signature": "sha256:2b8595ff734261479df3b2a4947d3ca73d2313641854e71b7fb8ceef2b11c41c"
 },
 "nbformat": 3,
 "nbformat_minor": 0,
 "worksheets": [
  {
   "cells": [
    {
     "cell_type": "markdown",
     "metadata": {},
     "source": [
      "<h1><center>CSE591- Data Sciences</center><h1>\n",
      "<h3><center>Assignment 1</center></h3>"
     ]
    },
    {
     "cell_type": "markdown",
     "metadata": {},
     "source": [
      "<center>Nupur Dichwalkar -109955223<center>"
     ]
    },
    {
     "cell_type": "code",
     "collapsed": false,
     "input": [
      "from pandas import *\n",
      "from pylab import *\n",
      "from numpy import *\n",
      "%matplotlib inline\n",
      "import scipy as sp\n",
      "import operator\n",
      "import statsmodels.api as sm\n",
      "import matplotlib.pyplot as plt"
     ],
     "language": "python",
     "metadata": {},
     "outputs": [],
     "prompt_number": 8
    },
    {
     "cell_type": "heading",
     "level": 5,
     "metadata": {},
     "source": [
      "Reading data from .csv in dataframe"
     ]
    },
    {
     "cell_type": "code",
     "collapsed": false,
     "input": [
      "countrydata = read_csv(\"country-data.csv\")"
     ],
     "language": "python",
     "metadata": {},
     "outputs": [],
     "prompt_number": 9
    },
    {
     "cell_type": "heading",
     "level": 6,
     "metadata": {},
     "source": [
      "datatypes of all the data in the dataframe"
     ]
    },
    {
     "cell_type": "code",
     "collapsed": false,
     "input": [
      "countrydata.dtypes"
     ],
     "language": "python",
     "metadata": {},
     "outputs": [
      {
       "metadata": {},
       "output_type": "pyout",
       "prompt_number": 10,
       "text": [
        "Country Name                           object\n",
        "Country Code                           object\n",
        "Government Type                        object\n",
        "Capital City                           object\n",
        "Date of Founding/Independence          object\n",
        "Latitude of Capital                    object\n",
        "Longitude of Capital                   object\n",
        "Population                              int64\n",
        "Life Expectancy                       float64\n",
        "GDP (PPP) in US $                       int64\n",
        "Area (sq km)                          float64\n",
        "Land Boundaries (km)                  float64\n",
        "Coastline (km)                        float64\n",
        "Literacy Rate (%)                      object\n",
        "Health Expenditure/GDP                 object\n",
        "Military Expenditure/GDP               object\n",
        "Renewable Water Resources (cu km)      object\n",
        "Net Migration Rate/1000 Population     object\n",
        "Labor Force                            object\n",
        "Internet Users (circa 2009)            object\n",
        "Commercial Prime Lending Rate          object\n",
        "dtype: object"
       ]
      }
     ],
     "prompt_number": 10
    },
    {
     "cell_type": "heading",
     "level": 6,
     "metadata": {},
     "source": [
      "Converting the datatypes of relevant data from object to float and string"
     ]
    },
    {
     "cell_type": "code",
     "collapsed": false,
     "input": [
      "countrydata=countrydata.replace(\"unknown\", nan)"
     ],
     "language": "python",
     "metadata": {},
     "outputs": [],
     "prompt_number": 11
    },
    {
     "cell_type": "code",
     "collapsed": false,
     "input": [
      "countrydata[['Literacy Rate (%)','Health Expenditure/GDP','Military Expenditure/GDP','Renewable Water Resources (cu km)','Net Migration Rate/1000 Population','Labor Force','Internet Users (circa 2009)','Commercial Prime Lending Rate']] = countrydata[['Literacy Rate (%)','Health Expenditure/GDP','Military Expenditure/GDP','Renewable Water Resources (cu km)','Net Migration Rate/1000 Population','Labor Force','Internet Users (circa 2009)','Commercial Prime Lending Rate']].astype(float)\n",
      "countrydata[['Latitude of Capital', 'Longitude of Capital']] =countrydata[['Latitude of Capital', 'Longitude of Capital']].astype(str) "
     ],
     "language": "python",
     "metadata": {},
     "outputs": [],
     "prompt_number": 12
    },
    {
     "cell_type": "heading",
     "level": 6,
     "metadata": {},
     "source": [
      "Replacing the unknown(NaN) values"
     ]
    },
    {
     "cell_type": "code",
     "collapsed": false,
     "input": [
      "countrydata = countrydata.interpolate()"
     ],
     "language": "python",
     "metadata": {},
     "outputs": [],
     "prompt_number": 13
    },
    {
     "cell_type": "heading",
     "level": 1,
     "metadata": {},
     "source": [
      "Question1"
     ]
    },
    {
     "cell_type": "markdown",
     "metadata": {},
     "source": [
      "Produce five informative plots revealing aspects of this data.   These must include\n",
      "    <ul>\n",
      "    <li>at least one data map</li>\n",
      "    <li>at least one scatter plot</li>\n",
      "    <li>at least one histogram or bar chart</li>\n",
      "    </ul>\n",
      "For each plot, write a paragraph in your notebook showing interesting stuff the visualization reveals."
     ]
    },
    {
     "cell_type": "heading",
     "level": 6,
     "metadata": {},
     "source": [
      "1. Scatter Plot"
     ]
    },
    {
     "cell_type": "code",
     "collapsed": false,
     "input": [
      "arrPopulation = log(array(countrydata['Population']))\n",
      "arrLabourForce = log(array(countrydata['Labor Force']))\n",
      "arrHEperGDP = log(array(countrydata['Health Expenditure/GDP']))\n",
      "arrGDP = log(array(countrydata['GDP (PPP) in US $']))"
     ],
     "language": "python",
     "metadata": {},
     "outputs": [],
     "prompt_number": 14
    },
    {
     "cell_type": "code",
     "collapsed": false,
     "input": [
      "fig, axes = plt.subplots(1,2, figsize=(12,4))\n",
      "\n",
      "axes[0].scatter(arrPopulation, arrLabourForce)\n",
      "axes[0].set_xlabel('Population')\n",
      "axes[0].set_ylabel('Labour Force')\n",
      "axes[0].set_title(\"Scatter Plot of Population vs Labour Force\")\n",
      "axes[1].scatter(arrHEperGDP, arrGDP)\n",
      "axes[1].set_xlabel('Health Expenditure/GDP')\n",
      "axes[1].set_ylabel('GDP (PPP) in US $')\n",
      "axes[1].set_title(\"Scatter Plot of Health Expenditure/GDP vs GDP (PPP) in US $\")"
     ],
     "language": "python",
     "metadata": {},
     "outputs": [
      {
       "metadata": {},
       "output_type": "pyout",
       "prompt_number": 15,
       "text": [
        "<matplotlib.text.Text at 0x5d59390>"
       ]
      },
      {
       "metadata": {},
       "output_type": "display_data",
       "png": "[encoded data removed]",
       "text": [
        "<matplotlib.figure.Figure at 0x5b65e90>"
       ]
      }
     ],
     "prompt_number": 15
    },
    {
     "cell_type": "heading",
     "level": 4,
     "metadata": {},
     "source": [
      "Analysis:"
     ]
    },
    {
     "cell_type": "markdown",
     "metadata": {},
     "source": [
      "The above scatter plots signify that Population and Labour force are strongly correlated whereas Health Expenditure/GDP and not correlated."
     ]
    },
    {
     "cell_type": "heading",
     "level": 6,
     "metadata": {},
     "source": [
      "2.Creating Data Map and plotting capitals using latitude and longitude of the capitals."
     ]
    },
    {
     "cell_type": "code",
     "collapsed": false,
     "input": [
      "def conversion(old):\n",
      "    if old != 'nan':\n",
      "        direction = {'N':1, 'S':-1, 'E': 1, 'W':-1}\n",
      "        new = old \n",
      "        new = new.split()\n",
      "        return (int(new[0])+int(new[1])/60.0) * direction[new[2]]"
     ],
     "language": "python",
     "metadata": {},
     "outputs": [],
     "prompt_number": 16
    },
    {
     "cell_type": "code",
     "collapsed": false,
     "input": [
      "from mpl_toolkits.basemap import Basemap\n",
      "map = Basemap()\n",
      "lons = []\n",
      "lats = []\n",
      "\n",
      "for i in array(countrydata['Latitude of Capital']):\n",
      "    lats.append(conversion(i))\n",
      "for i in array(countrydata['Longitude of Capital']):\n",
      "    lons.append(conversion(i))\n",
      "\n",
      "map.drawcoastlines(linewidth=0.25)\n",
      "map.drawcountries(linewidth=0.25)\n",
      "map.fillcontinents()\n",
      "map.drawmapboundary()\n",
      "x,y = map(lons,lats)\n",
      "map.plot(x ,y , '.', markersize=2)\n",
      "plt.title('Data Map')\n",
      "plt.show()"
     ],
     "language": "python",
     "metadata": {},
     "outputs": [
      {
       "metadata": {},
       "output_type": "display_data",
       "png": "[encoded data removed]",
       "text": [
        "<matplotlib.figure.Figure at 0x5fbc210>"
       ]
      }
     ],
     "prompt_number": 17
    },
    {
     "cell_type": "markdown",
     "metadata": {},
     "source": [
      "The above Data Map has capitals plotted based on the latitude and longitude of the capitals given in the data."
     ]
    },
    {
     "cell_type": "heading",
     "level": 6,
     "metadata": {},
     "source": [
      "3.Histogram"
     ]
    },
    {
     "cell_type": "code",
     "collapsed": false,
     "input": [
      "arrCPLR = array(countrydata['Commercial Prime Lending Rate'])"
     ],
     "language": "python",
     "metadata": {},
     "outputs": [],
     "prompt_number": 18
    },
    {
     "cell_type": "code",
     "collapsed": false,
     "input": [
      "fig, axes = plt.subplots()\n",
      "axes.hist(arrCPLR)\n",
      "axes.set_title(\"Histogram for Commercial Prime Lending Rate\")\n",
      "axes.set_xlim((min(arrCPLR), max(arrCPLR)))"
     ],
     "language": "python",
     "metadata": {},
     "outputs": [
      {
       "metadata": {},
       "output_type": "pyout",
       "prompt_number": 79,
       "text": [
        "(0.25, 44.0)"
       ]
      },
      {
       "metadata": {},
       "output_type": "display_data",
       "png": "[encoded data removed]",
       "text": [
        "<matplotlib.figure.Figure at 0x7379710>"
       ]
      }
     ],
     "prompt_number": 79
    },
    {
     "cell_type": "heading",
     "level": 4,
     "metadata": {},
     "source": [
      "Analysis:"
     ]
    },
    {
     "cell_type": "markdown",
     "metadata": {},
     "source": [
      "The above histogram signifies that the general trend in different countries is that most of the countries provide lending rate of about 10%.The rangeis from 0 to 30. There are very few countries which have prime lending rate of above 40%"
     ]
    },
    {
     "cell_type": "heading",
     "level": 5,
     "metadata": {},
     "source": [
      "4.Bar Chart"
     ]
    },
    {
     "cell_type": "code",
     "collapsed": false,
     "input": [
      "countrydata[10:80].groupby('Government Type').sum().plot(kind='bar',legend=False, figsize=(12, 5))"
     ],
     "language": "python",
     "metadata": {},
     "outputs": [
      {
       "metadata": {},
       "output_type": "pyout",
       "prompt_number": 20,
       "text": [
        "<matplotlib.axes.AxesSubplot at 0x652ebd0>"
       ]
      },
      {
       "metadata": {},
       "output_type": "display_data",
       "png": "[encoded data removed]",
       "text": [
        "<matplotlib.figure.Figure at 0x61bb7d0>"
       ]
      }
     ],
     "prompt_number": 20
    },
    {
     "cell_type": "markdown",
     "metadata": {},
     "source": [
      "The above part chart signifies that the major government types in the world are\n",
      "<ol><li>republic</li><li>federal republic</li><li>Communist state</li>"
     ]
    },
    {
     "cell_type": "heading",
     "level": 1,
     "metadata": {},
     "source": [
      "Question 2"
     ]
    },
    {
     "cell_type": "markdown",
     "metadata": {},
     "source": [
      "Do a pairwise correlation on all pairs of variables to identify which pairs correlate the strongest and which the weakest.Do a permutation test to determine the p-value of each observed correlation to test which are significant (what fraction of permutations produce at least this high a correlation)."
     ]
    },
    {
     "cell_type": "heading",
     "level": 4,
     "metadata": {},
     "source": [
      "Correlation between all the pairs of variables"
     ]
    },
    {
     "cell_type": "code",
     "collapsed": false,
     "input": [
      "countrydata.corr()"
     ],
     "language": "python",
     "metadata": {},
     "outputs": [
      {
       "html": [
        "<div style=\"max-height:1000px;max-width:1500px;overflow:auto;\">\n",
        "<table border=\"1\" class=\"dataframe\">\n",
        "  <thead>\n",
        "    <tr style=\"text-align: right;\">\n",
        "      <th></th>\n",
        "      <th>Population</th>\n",
        "      <th>Life Expectancy</th>\n",
        "      <th>GDP (PPP) in US $</th>\n",
        "      <th>Area (sq km)</th>\n",
        "      <th>Land Boundaries (km)</th>\n",
        "      <th>Coastline (km)</th>\n",
        "      <th>Literacy Rate (%)</th>\n",
        "      <th>Health Expenditure/GDP</th>\n",
        "      <th>Military Expenditure/GDP</th>\n",
        "      <th>Renewable Water Resources (cu km)</th>\n",
        "      <th>Net Migration Rate/1000 Population</th>\n",
        "      <th>Labor Force</th>\n",
        "      <th>Internet Users (circa 2009)</th>\n",
        "      <th>Commercial Prime Lending Rate</th>\n",
        "    </tr>\n",
        "  </thead>\n",
        "  <tbody>\n",
        "    <tr>\n",
        "      <th>Population</th>\n",
        "      <td> 1.000000</td>\n",
        "      <td> 0.014249</td>\n",
        "      <td> 0.697280</td>\n",
        "      <td> 0.453228</td>\n",
        "      <td> 0.575146</td>\n",
        "      <td> 0.120474</td>\n",
        "      <td>-0.042250</td>\n",
        "      <td>-0.068849</td>\n",
        "      <td> 0.024113</td>\n",
        "      <td> 0.434284</td>\n",
        "      <td> 0.004584</td>\n",
        "      <td> 0.980242</td>\n",
        "      <td> 0.760497</td>\n",
        "      <td>-0.047060</td>\n",
        "    </tr>\n",
        "    <tr>\n",
        "      <th>Life Expectancy</th>\n",
        "      <td> 0.014249</td>\n",
        "      <td> 1.000000</td>\n",
        "      <td> 0.175071</td>\n",
        "      <td> 0.033022</td>\n",
        "      <td>-0.219494</td>\n",
        "      <td> 0.162933</td>\n",
        "      <td> 0.723893</td>\n",
        "      <td> 0.101479</td>\n",
        "      <td>-0.058177</td>\n",
        "      <td> 0.061884</td>\n",
        "      <td> 0.131122</td>\n",
        "      <td> 0.031791</td>\n",
        "      <td> 0.151614</td>\n",
        "      <td>-0.444648</td>\n",
        "    </tr>\n",
        "    <tr>\n",
        "      <th>GDP (PPP) in US $</th>\n",
        "      <td> 0.697280</td>\n",
        "      <td> 0.175071</td>\n",
        "      <td> 1.000000</td>\n",
        "      <td> 0.592445</td>\n",
        "      <td> 0.500468</td>\n",
        "      <td> 0.204414</td>\n",
        "      <td> 0.124721</td>\n",
        "      <td> 0.191474</td>\n",
        "      <td> 0.079810</td>\n",
        "      <td> 0.478047</td>\n",
        "      <td> 0.033426</td>\n",
        "      <td> 0.729826</td>\n",
        "      <td> 0.937472</td>\n",
        "      <td>-0.177858</td>\n",
        "    </tr>\n",
        "    <tr>\n",
        "      <th>Area (sq km)</th>\n",
        "      <td> 0.453228</td>\n",
        "      <td> 0.033022</td>\n",
        "      <td> 0.592445</td>\n",
        "      <td> 1.000000</td>\n",
        "      <td> 0.749098</td>\n",
        "      <td> 0.521336</td>\n",
        "      <td> 0.051746</td>\n",
        "      <td> 0.066752</td>\n",
        "      <td> 0.109696</td>\n",
        "      <td> 0.758592</td>\n",
        "      <td> 0.038653</td>\n",
        "      <td> 0.477193</td>\n",
        "      <td> 0.563573</td>\n",
        "      <td>-0.029151</td>\n",
        "    </tr>\n",
        "    <tr>\n",
        "      <th>Land Boundaries (km)</th>\n",
        "      <td> 0.575146</td>\n",
        "      <td>-0.219494</td>\n",
        "      <td> 0.500468</td>\n",
        "      <td> 0.749098</td>\n",
        "      <td> 1.000000</td>\n",
        "      <td> 0.195977</td>\n",
        "      <td>-0.147583</td>\n",
        "      <td>-0.100930</td>\n",
        "      <td> 0.104041</td>\n",
        "      <td> 0.668469</td>\n",
        "      <td> 0.002302</td>\n",
        "      <td> 0.582095</td>\n",
        "      <td> 0.526462</td>\n",
        "      <td> 0.136993</td>\n",
        "    </tr>\n",
        "    <tr>\n",
        "      <th>Coastline (km)</th>\n",
        "      <td> 0.120474</td>\n",
        "      <td> 0.162933</td>\n",
        "      <td> 0.204414</td>\n",
        "      <td> 0.521336</td>\n",
        "      <td> 0.195977</td>\n",
        "      <td> 1.000000</td>\n",
        "      <td> 0.135053</td>\n",
        "      <td> 0.109075</td>\n",
        "      <td>-0.046998</td>\n",
        "      <td> 0.376913</td>\n",
        "      <td> 0.041236</td>\n",
        "      <td> 0.123886</td>\n",
        "      <td> 0.175316</td>\n",
        "      <td>-0.143281</td>\n",
        "    </tr>\n",
        "    <tr>\n",
        "      <th>Literacy Rate (%)</th>\n",
        "      <td>-0.042250</td>\n",
        "      <td> 0.723893</td>\n",
        "      <td> 0.124721</td>\n",
        "      <td> 0.051746</td>\n",
        "      <td>-0.147583</td>\n",
        "      <td> 0.135053</td>\n",
        "      <td> 1.000000</td>\n",
        "      <td> 0.099397</td>\n",
        "      <td>-0.086277</td>\n",
        "      <td> 0.067642</td>\n",
        "      <td> 0.049476</td>\n",
        "      <td>-0.011701</td>\n",
        "      <td> 0.114945</td>\n",
        "      <td>-0.320988</td>\n",
        "    </tr>\n",
        "    <tr>\n",
        "      <th>Health Expenditure/GDP</th>\n",
        "      <td>-0.068849</td>\n",
        "      <td> 0.101479</td>\n",
        "      <td> 0.191474</td>\n",
        "      <td> 0.066752</td>\n",
        "      <td>-0.100930</td>\n",
        "      <td> 0.109075</td>\n",
        "      <td> 0.099397</td>\n",
        "      <td> 1.000000</td>\n",
        "      <td>-0.104356</td>\n",
        "      <td> 0.040772</td>\n",
        "      <td>-0.002324</td>\n",
        "      <td>-0.054468</td>\n",
        "      <td> 0.132660</td>\n",
        "      <td>-0.102984</td>\n",
        "    </tr>\n",
        "    <tr>\n",
        "      <th>Military Expenditure/GDP</th>\n",
        "      <td> 0.024113</td>\n",
        "      <td>-0.058177</td>\n",
        "      <td> 0.079810</td>\n",
        "      <td> 0.109696</td>\n",
        "      <td> 0.104041</td>\n",
        "      <td>-0.046998</td>\n",
        "      <td>-0.086277</td>\n",
        "      <td>-0.104356</td>\n",
        "      <td> 1.000000</td>\n",
        "      <td> 0.015621</td>\n",
        "      <td> 0.153435</td>\n",
        "      <td> 0.025415</td>\n",
        "      <td> 0.060615</td>\n",
        "      <td>-0.018382</td>\n",
        "    </tr>\n",
        "    <tr>\n",
        "      <th>Renewable Water Resources (cu km)</th>\n",
        "      <td> 0.434284</td>\n",
        "      <td> 0.061884</td>\n",
        "      <td> 0.478047</td>\n",
        "      <td> 0.758592</td>\n",
        "      <td> 0.668469</td>\n",
        "      <td> 0.376913</td>\n",
        "      <td> 0.067642</td>\n",
        "      <td> 0.040772</td>\n",
        "      <td> 0.015621</td>\n",
        "      <td> 1.000000</td>\n",
        "      <td> 0.014624</td>\n",
        "      <td> 0.444830</td>\n",
        "      <td> 0.481748</td>\n",
        "      <td> 0.109369</td>\n",
        "    </tr>\n",
        "    <tr>\n",
        "      <th>Net Migration Rate/1000 Population</th>\n",
        "      <td> 0.004584</td>\n",
        "      <td> 0.131122</td>\n",
        "      <td> 0.033426</td>\n",
        "      <td> 0.038653</td>\n",
        "      <td> 0.002302</td>\n",
        "      <td> 0.041236</td>\n",
        "      <td> 0.049476</td>\n",
        "      <td>-0.002324</td>\n",
        "      <td> 0.153435</td>\n",
        "      <td> 0.014624</td>\n",
        "      <td> 1.000000</td>\n",
        "      <td> 0.007404</td>\n",
        "      <td> 0.023887</td>\n",
        "      <td>-0.094875</td>\n",
        "    </tr>\n",
        "    <tr>\n",
        "      <th>Labor Force</th>\n",
        "      <td> 0.980242</td>\n",
        "      <td> 0.031791</td>\n",
        "      <td> 0.729826</td>\n",
        "      <td> 0.477193</td>\n",
        "      <td> 0.582095</td>\n",
        "      <td> 0.123886</td>\n",
        "      <td>-0.011701</td>\n",
        "      <td>-0.054468</td>\n",
        "      <td> 0.025415</td>\n",
        "      <td> 0.444830</td>\n",
        "      <td> 0.007404</td>\n",
        "      <td> 1.000000</td>\n",
        "      <td> 0.830891</td>\n",
        "      <td>-0.057612</td>\n",
        "    </tr>\n",
        "    <tr>\n",
        "      <th>Internet Users (circa 2009)</th>\n",
        "      <td> 0.760497</td>\n",
        "      <td> 0.151614</td>\n",
        "      <td> 0.937472</td>\n",
        "      <td> 0.563573</td>\n",
        "      <td> 0.526462</td>\n",
        "      <td> 0.175316</td>\n",
        "      <td> 0.114945</td>\n",
        "      <td> 0.132660</td>\n",
        "      <td> 0.060615</td>\n",
        "      <td> 0.481748</td>\n",
        "      <td> 0.023887</td>\n",
        "      <td> 0.830891</td>\n",
        "      <td> 1.000000</td>\n",
        "      <td>-0.152332</td>\n",
        "    </tr>\n",
        "    <tr>\n",
        "      <th>Commercial Prime Lending Rate</th>\n",
        "      <td>-0.047060</td>\n",
        "      <td>-0.444648</td>\n",
        "      <td>-0.177858</td>\n",
        "      <td>-0.029151</td>\n",
        "      <td> 0.136993</td>\n",
        "      <td>-0.143281</td>\n",
        "      <td>-0.320988</td>\n",
        "      <td>-0.102984</td>\n",
        "      <td>-0.018382</td>\n",
        "      <td> 0.109369</td>\n",
        "      <td>-0.094875</td>\n",
        "      <td>-0.057612</td>\n",
        "      <td>-0.152332</td>\n",
        "      <td> 1.000000</td>\n",
        "    </tr>\n",
        "  </tbody>\n",
        "</table>\n",
        "</div>"
       ],
       "metadata": {},
       "output_type": "pyout",
       "prompt_number": 21,
       "text": [
        "                                    Population  Life Expectancy  \\\n",
        "Population                            1.000000         0.014249   \n",
        "Life Expectancy                       0.014249         1.000000   \n",
        "GDP (PPP) in US $                     0.697280         0.175071   \n",
        "Area (sq km)                          0.453228         0.033022   \n",
        "Land Boundaries (km)                  0.575146        -0.219494   \n",
        "Coastline (km)                        0.120474         0.162933   \n",
        "Literacy Rate (%)                    -0.042250         0.723893   \n",
        "Health Expenditure/GDP               -0.068849         0.101479   \n",
        "Military Expenditure/GDP              0.024113        -0.058177   \n",
        "Renewable Water Resources (cu km)     0.434284         0.061884   \n",
        "Net Migration Rate/1000 Population    0.004584         0.131122   \n",
        "Labor Force                           0.980242         0.031791   \n",
        "Internet Users (circa 2009)           0.760497         0.151614   \n",
        "Commercial Prime Lending Rate        -0.047060        -0.444648   \n",
        "\n",
        "                                    GDP (PPP) in US $  Area (sq km)  \\\n",
        "Population                                   0.697280      0.453228   \n",
        "Life Expectancy                              0.175071      0.033022   \n",
        "GDP (PPP) in US $                            1.000000      0.592445   \n",
        "Area (sq km)                                 0.592445      1.000000   \n",
        "Land Boundaries (km)                         0.500468      0.749098   \n",
        "Coastline (km)                               0.204414      0.521336   \n",
        "Literacy Rate (%)                            0.124721      0.051746   \n",
        "Health Expenditure/GDP                       0.191474      0.066752   \n",
        "Military Expenditure/GDP                     0.079810      0.109696   \n",
        "Renewable Water Resources (cu km)            0.478047      0.758592   \n",
        "Net Migration Rate/1000 Population           0.033426      0.038653   \n",
        "Labor Force                                  0.729826      0.477193   \n",
        "Internet Users (circa 2009)                  0.937472      0.563573   \n",
        "Commercial Prime Lending Rate               -0.177858     -0.029151   \n",
        "\n",
        "                                    Land Boundaries (km)  Coastline (km)  \\\n",
        "Population                                      0.575146        0.120474   \n",
        "Life Expectancy                                -0.219494        0.162933   \n",
        "GDP (PPP) in US $                               0.500468        0.204414   \n",
        "Area (sq km)                                    0.749098        0.521336   \n",
        "Land Boundaries (km)                            1.000000        0.195977   \n",
        "Coastline (km)                                  0.195977        1.000000   \n",
        "Literacy Rate (%)                              -0.147583        0.135053   \n",
        "Health Expenditure/GDP                         -0.100930        0.109075   \n",
        "Military Expenditure/GDP                        0.104041       -0.046998   \n",
        "Renewable Water Resources (cu km)               0.668469        0.376913   \n",
        "Net Migration Rate/1000 Population              0.002302        0.041236   \n",
        "Labor Force                                     0.582095        0.123886   \n",
        "Internet Users (circa 2009)                     0.526462        0.175316   \n",
        "Commercial Prime Lending Rate                   0.136993       -0.143281   \n",
        "\n",
        "                                    Literacy Rate (%)  Health Expenditure/GDP  \\\n",
        "Population                                  -0.042250               -0.068849   \n",
        "Life Expectancy                              0.723893                0.101479   \n",
        "GDP (PPP) in US $                            0.124721                0.191474   \n",
        "Area (sq km)                                 0.051746                0.066752   \n",
        "Land Boundaries (km)                        -0.147583               -0.100930   \n",
        "Coastline (km)                               0.135053                0.109075   \n",
        "Literacy Rate (%)                            1.000000                0.099397   \n",
        "Health Expenditure/GDP                       0.099397                1.000000   \n",
        "Military Expenditure/GDP                    -0.086277               -0.104356   \n",
        "Renewable Water Resources (cu km)            0.067642                0.040772   \n",
        "Net Migration Rate/1000 Population           0.049476               -0.002324   \n",
        "Labor Force                                 -0.011701               -0.054468   \n",
        "Internet Users (circa 2009)                  0.114945                0.132660   \n",
        "Commercial Prime Lending Rate               -0.320988               -0.102984   \n",
        "\n",
        "                                    Military Expenditure/GDP  \\\n",
        "Population                                          0.024113   \n",
        "Life Expectancy                                    -0.058177   \n",
        "GDP (PPP) in US $                                   0.079810   \n",
        "Area (sq km)                                        0.109696   \n",
        "Land Boundaries (km)                                0.104041   \n",
        "Coastline (km)                                     -0.046998   \n",
        "Literacy Rate (%)                                  -0.086277   \n",
        "Health Expenditure/GDP                             -0.104356   \n",
        "Military Expenditure/GDP                            1.000000   \n",
        "Renewable Water Resources (cu km)                   0.015621   \n",
        "Net Migration Rate/1000 Population                  0.153435   \n",
        "Labor Force                                         0.025415   \n",
        "Internet Users (circa 2009)                         0.060615   \n",
        "Commercial Prime Lending Rate                      -0.018382   \n",
        "\n",
        "                                    Renewable Water Resources (cu km)  \\\n",
        "Population                                                   0.434284   \n",
        "Life Expectancy                                              0.061884   \n",
        "GDP (PPP) in US $                                            0.478047   \n",
        "Area (sq km)                                                 0.758592   \n",
        "Land Boundaries (km)                                         0.668469   \n",
        "Coastline (km)                                               0.376913   \n",
        "Literacy Rate (%)                                            0.067642   \n",
        "Health Expenditure/GDP                                       0.040772   \n",
        "Military Expenditure/GDP                                     0.015621   \n",
        "Renewable Water Resources (cu km)                            1.000000   \n",
        "Net Migration Rate/1000 Population                           0.014624   \n",
        "Labor Force                                                  0.444830   \n",
        "Internet Users (circa 2009)                                  0.481748   \n",
        "Commercial Prime Lending Rate                                0.109369   \n",
        "\n",
        "                                    Net Migration Rate/1000 Population  \\\n",
        "Population                                                    0.004584   \n",
        "Life Expectancy                                               0.131122   \n",
        "GDP (PPP) in US $                                             0.033426   \n",
        "Area (sq km)                                                  0.038653   \n",
        "Land Boundaries (km)                                          0.002302   \n",
        "Coastline (km)                                                0.041236   \n",
        "Literacy Rate (%)                                             0.049476   \n",
        "Health Expenditure/GDP                                       -0.002324   \n",
        "Military Expenditure/GDP                                      0.153435   \n",
        "Renewable Water Resources (cu km)                             0.014624   \n",
        "Net Migration Rate/1000 Population                            1.000000   \n",
        "Labor Force                                                   0.007404   \n",
        "Internet Users (circa 2009)                                   0.023887   \n",
        "Commercial Prime Lending Rate                                -0.094875   \n",
        "\n",
        "                                    Labor Force  Internet Users (circa 2009)  \\\n",
        "Population                             0.980242                     0.760497   \n",
        "Life Expectancy                        0.031791                     0.151614   \n",
        "GDP (PPP) in US $                      0.729826                     0.937472   \n",
        "Area (sq km)                           0.477193                     0.563573   \n",
        "Land Boundaries (km)                   0.582095                     0.526462   \n",
        "Coastline (km)                         0.123886                     0.175316   \n",
        "Literacy Rate (%)                     -0.011701                     0.114945   \n",
        "Health Expenditure/GDP                -0.054468                     0.132660   \n",
        "Military Expenditure/GDP               0.025415                     0.060615   \n",
        "Renewable Water Resources (cu km)      0.444830                     0.481748   \n",
        "Net Migration Rate/1000 Population     0.007404                     0.023887   \n",
        "Labor Force                            1.000000                     0.830891   \n",
        "Internet Users (circa 2009)            0.830891                     1.000000   \n",
        "Commercial Prime Lending Rate         -0.057612                    -0.152332   \n",
        "\n",
        "                                    Commercial Prime Lending Rate  \n",
        "Population                                              -0.047060  \n",
        "Life Expectancy                                         -0.444648  \n",
        "GDP (PPP) in US $                                       -0.177858  \n",
        "Area (sq km)                                            -0.029151  \n",
        "Land Boundaries (km)                                     0.136993  \n",
        "Coastline (km)                                          -0.143281  \n",
        "Literacy Rate (%)                                       -0.320988  \n",
        "Health Expenditure/GDP                                  -0.102984  \n",
        "Military Expenditure/GDP                                -0.018382  \n",
        "Renewable Water Resources (cu km)                        0.109369  \n",
        "Net Migration Rate/1000 Population                      -0.094875  \n",
        "Labor Force                                             -0.057612  \n",
        "Internet Users (circa 2009)                             -0.152332  \n",
        "Commercial Prime Lending Rate                            1.000000  "
       ]
      }
     ],
     "prompt_number": 21
    },
    {
     "cell_type": "code",
     "collapsed": false,
     "input": [
      "countrydata['Population'].corr(countrydata['Labor Force'])"
     ],
     "language": "python",
     "metadata": {},
     "outputs": [
      {
       "metadata": {},
       "output_type": "pyout",
       "prompt_number": 22,
       "text": [
        "0.98024186128569324"
       ]
      }
     ],
     "prompt_number": 22
    },
    {
     "cell_type": "markdown",
     "metadata": {},
     "source": [
      "From this we can conclude that Population is most positively corelated to Labor Force"
     ]
    },
    {
     "cell_type": "heading",
     "level": 1,
     "metadata": {},
     "source": [
      "Question 3"
     ]
    },
    {
     "cell_type": "markdown",
     "metadata": {},
     "source": [
      "Set up a simple linear regression model to predict the average income (GDP per capita) as a function of one or more of the other variables.   Which countries are most above the forecast?   Which are most below?   Can you explain why?   "
     ]
    },
    {
     "cell_type": "heading",
     "level": 6,
     "metadata": {},
     "source": [
      "Linear regression model"
     ]
    },
    {
     "cell_type": "code",
     "collapsed": false,
     "input": [
      "model = ols(y=countrydata['GDP (PPP) in US $']/countrydata['Population'], x=countrydata.ix[:, ['Internet Users (circa 2009)']])"
     ],
     "language": "python",
     "metadata": {},
     "outputs": [],
     "prompt_number": 23
    },
    {
     "cell_type": "code",
     "collapsed": false,
     "input": [
      "model.beta"
     ],
     "language": "python",
     "metadata": {},
     "outputs": [
      {
       "metadata": {},
       "output_type": "pyout",
       "prompt_number": 24,
       "text": [
        "Internet Users (circa 2009)        0.000052\n",
        "intercept                      15745.892465\n",
        "dtype: float64"
       ]
      }
     ],
     "prompt_number": 24
    },
    {
     "cell_type": "code",
     "collapsed": false,
     "input": [
      "#countrydata = countrydata.set_index(['Country Name'])\n",
      "x=countrydata.ix[:, ['Internet Users (circa 2009)']]\n",
      "y=countrydata['GDP (PPP) in US $']/countrydata['Population']\n",
      "countrydata['GDP_per_capita'] = countrydata['GDP (PPP) in US $']/countrydata['Population']\n",
      "Y=model.beta.intercept+model.beta['Internet Users (circa 2009)']*x\n",
      "\n",
      "#plt.scatter(x,y)  # Plot the raw data\n",
      "plt.xlabel(\"Internet Users (circa 2009)\")\n",
      "plt.ylabel(\"GDP per capita\")\n",
      "plt.plot(x,Y,'r-', x,y,'o')  # Add the regression line, colored in red\n"
     ],
     "language": "python",
     "metadata": {},
     "outputs": [
      {
       "metadata": {},
       "output_type": "pyout",
       "prompt_number": 82,
       "text": [
        "[<matplotlib.lines.Line2D at 0x75fa550>,\n",
        " <matplotlib.lines.Line2D at 0x75faa10>]"
       ]
      },
      {
       "metadata": {},
       "output_type": "display_data",
       "png": "[encoded data removed]",
       "text": [
        "<matplotlib.figure.Figure at 0x6a9d1d0>"
       ]
      }
     ],
     "prompt_number": 82
    },
    {
     "cell_type": "code",
     "collapsed": false,
     "input": [
      "countries_above_forecast = [] \n",
      "countries_below_forecast = [] \n",
      "\n",
      "for index, row in countrydata.iterrows(): \n",
      "    value = row['GDP_per_capita'] - model.beta.intercept - model.beta['Internet Users (circa 2009)']*row['Internet Users (circa 2009)'] \n",
      "    if value > 0: \n",
      "        countries_above_forecast.append(index) \n",
      "    elif value < 0: \n",
      "        countries_below_forecast.append(index)"
     ],
     "language": "python",
     "metadata": {},
     "outputs": [],
     "prompt_number": 26
    },
    {
     "cell_type": "code",
     "collapsed": false,
     "input": [
      "print \"Countries above the forecast : \\n\" + str(countries_above_forecast) + \"\\n Total = \" + str(len(countries_above_forecast))\n",
      "print \"\\nCountries below the forecast : \\n\" + str(countries_below_forecast) + \"\\n Total = \" + str(len(countries_below_forecast))"
     ],
     "language": "python",
     "metadata": {},
     "outputs": [
      {
       "output_type": "stream",
       "stream": "stdout",
       "text": [
        "Countries above the forecast : \n",
        "['Andorra', 'Antigua and Barbuda', 'Argentina', 'Australia', 'Austria', 'Bahamas, The', 'Bahrain', 'Barbados', 'Belgium', 'Botswana', 'Brunei', 'Canada', 'Chile', 'Croatia', 'Cyprus', 'Czech Republic', 'Denmark', 'Equatorial Guinea', 'Estonia', 'Finland', 'France', 'Gabon', 'Germany', 'Greece', 'Greenland', 'Hungary', 'Iceland', 'Ireland', 'Israel', 'Italy', 'Japan', 'Korea, South', 'Kuwait', 'Latvia', 'Liechtenstein', 'Lithuania', 'Luxembourg', 'Malaysia', 'Malta', 'Monaco', 'Netherlands', 'New Zealand', 'Norway', 'Oman', 'Panama', 'Poland', 'Portugal', 'Qatar', 'Russia', 'Saint Kitts and Nevis', 'San Marino', 'Saudi Arabia', 'Seychelles', 'Singapore', 'Slovakia', 'Slovenia', 'Spain', 'Sweden', 'Switzerland', 'Taiwan', 'Timor-Leste', 'Trinidad and Tobago', 'United Arab Emirates', 'United Kingdom', 'United States', 'Uruguay']\n",
        " Total = 66\n",
        "\n",
        "Countries below the forecast : \n",
        "['Afghanistan', 'Albania', 'Algeria', 'Angola', 'Armenia', 'Azerbaijan', 'Bangladesh', 'Belarus', 'Belize', 'Benin', 'Bhutan', 'Bolivia', 'Bosnia and Herzegovina', 'Brazil', 'Bulgaria', 'Burkina Faso', 'Burundi', 'Cabo Verde', 'Cambodia', 'Cameroon', 'Central African Republic', 'Chad', 'China', 'Colombia', 'Comoros', 'Congo, Democratic Republic of the', 'Congo, Republic of the', 'Costa Rica', \"Cote d'Ivoire\", 'Cuba', 'Djibouti', 'Dominica', 'Dominican Republic', 'Ecuador', 'Egypt', 'El Salvador', 'Eritrea', 'Ethiopia', 'Fiji', 'Gambia, The', 'Georgia', 'Ghana', 'Grenada', 'Guatemala', 'Guinea', 'Guinea-Bissau', 'Guyana', 'Haiti', 'Honduras', 'India', 'Indonesia', 'Iran', 'Iraq', 'Jamaica', 'Jordan', 'Kazakhstan', 'Kenya', 'Kiribati', 'Korea, North', 'Kosovo', 'Kyrgyzstan', 'Laos', 'Lebanon', 'Lesotho', 'Liberia', 'Libya', 'Macedonia', 'Madagascar', 'Malawi', 'Maldives', 'Mali', 'Marshall Islands', 'Mauritania', 'Mauritius', 'Mexico', 'Micronesia, Federated States of', 'Moldova', 'Mongolia', 'Montenegro', 'Morocco', 'Mozambique', 'Burma', 'Namibia', 'Nauru', 'Nepal', 'Nicaragua', 'Niger', 'Nigeria', 'Pakistan', 'Palau', 'Papua New Guinea', 'Paraguay', 'Peru', 'Philippines', 'Romania', 'Rwanda', 'Saint Lucia', 'Saint Vincent and the Grenadines', 'Samoa', 'Sao Tome and Principe', 'Senegal', 'Serbia', 'Sierra Leone', 'Solomon Islands', 'Somalia', 'South Africa', 'South Sudan', 'Sri Lanka', 'Sudan', 'Suriname', 'Swaziland', 'Syria', 'Tajikistan', 'Tanzania', 'Thailand', 'Togo', 'Tonga', 'Tunisia', 'Turkey', 'Turkmenistan', 'Tuvalu', 'Uganda', 'Ukraine', 'Uzbekistan', 'Vanuatu', 'Venezuela', 'Vietnam', 'Western Sahara', 'Yemen', 'Zambia', 'Zimbabwe']\n",
        " Total = 131\n"
       ]
      }
     ],
     "prompt_number": 27
    },
    {
     "cell_type": "heading",
     "level": 1,
     "metadata": {},
     "source": [
      "Question 4"
     ]
    },
    {
     "cell_type": "markdown",
     "metadata": {},
     "source": [
      " Set up a scoring/ranking function to measure general social welfare.   Which countries do best by your measure?   Which do worst? Write a few paragraphs to describe your measure and evaluate how good/bad you think the results are."
     ]
    },
    {
     "cell_type": "markdown",
     "metadata": {},
     "source": [
      "<i>The factors considered to measure the general social welfare are :</i> "
     ]
    },
    {
     "cell_type": "markdown",
     "metadata": {},
     "source": [
      "<ol>\n",
      "<li>GDP (PPP) in US $</li>\n",
      "<li>Net Migration Rate/1000 Population</li>\n",
      "<li>Internet Users (circa 2009)</li>\n",
      "<li>Labor Force</li>\n",
      "<li>Health Expenditure/GDP</li>\n",
      "</ol>"
     ]
    },
    {
     "cell_type": "code",
     "collapsed": false,
     "input": [
      "countrydata['Ranking'] = countrydata['GDP (PPP) in US $'].rank()+countrydata['Internet Users (circa 2009)'].rank() +countrydata['Labor Force'].rank()+countrydata['Net Migration Rate/1000 Population'].rank()+countrydata['Health Expenditure/GDP'].rank()"
     ],
     "language": "python",
     "metadata": {},
     "outputs": [],
     "prompt_number": 83
    },
    {
     "cell_type": "markdown",
     "metadata": {},
     "source": [
      "The top 10 countries which are the best according to my measure are :"
     ]
    },
    {
     "cell_type": "code",
     "collapsed": false,
     "input": [
      "countrydata['Ranking'].rank(ascending = False).order()[0:10]"
     ],
     "language": "python",
     "metadata": {},
     "outputs": [
      {
       "metadata": {},
       "output_type": "pyout",
       "prompt_number": 84,
       "text": [
        "Country Name\n",
        "United States      1\n",
        "Germany            2\n",
        "Canada             3\n",
        "France             4\n",
        "United Kingdom     5\n",
        "Spain              6\n",
        "Italy              7\n",
        "Japan              8\n",
        "Australia          9\n",
        "Netherlands       10\n",
        "Name: Ranking, dtype: float64"
       ]
      }
     ],
     "prompt_number": 84
    },
    {
     "cell_type": "markdown",
     "metadata": {},
     "source": [
      "The <b>worst 10 countries</b> which are the best according to my measure are :"
     ]
    },
    {
     "cell_type": "code",
     "collapsed": false,
     "input": [
      "countrydata['Ranking'].rank(ascending = False).order()[187:197]"
     ],
     "language": "python",
     "metadata": {},
     "outputs": [
      {
       "metadata": {},
       "output_type": "pyout",
       "prompt_number": 85,
       "text": [
        "Country Name\n",
        "Greenland                           188\n",
        "Grenada                             189\n",
        "Sao Tome and Principe               190\n",
        "Comoros                             191\n",
        "Fiji                                192\n",
        "Samoa                               193\n",
        "Dominica                            194\n",
        "Vanuatu                             195\n",
        "Saint Vincent and the Grenadines    196\n",
        "Tonga                               197\n",
        "Name: Ranking, dtype: float64"
       ]
      }
     ],
     "prompt_number": 85
    },
    {
     "cell_type": "markdown",
     "metadata": {},
     "source": [
      "The three criteria taken into consideration while ranking i.e.<b>GDP (PPP) in US $, Internet Users (circa 2009) and Labor Force</b> are absolute values which will differ based on the population of the country. So instead we will consider relative values and check if the results differ"
     ]
    },
    {
     "cell_type": "code",
     "collapsed": false,
     "input": [
      "countrydata['% InternetUsers'] = countrydata['Internet Users (circa 2009)']/countrydata['Population']\n",
      "countrydata['% LaborForce'] = countrydata['Labor Force']/countrydata['Population']\n",
      "countrydata['GDP_per_capita'] = countrydata['GDP (PPP) in US $']/countrydata['Population']"
     ],
     "language": "python",
     "metadata": {},
     "outputs": [],
     "prompt_number": 86
    },
    {
     "cell_type": "code",
     "collapsed": false,
     "input": [
      "countrydata['Rel. Ranking'] = countrydata['GDP_per_capita'].rank()+countrydata['% InternetUsers'].rank() +countrydata['% LaborForce'].rank()+countrydata['Net Migration Rate/1000 Population'].rank()+countrydata['Health Expenditure/GDP'].rank()"
     ],
     "language": "python",
     "metadata": {},
     "outputs": [],
     "prompt_number": 87
    },
    {
     "cell_type": "code",
     "collapsed": false,
     "input": [
      "countrydata['Rel. Ranking'].rank(ascending = False).order()[0:10]"
     ],
     "language": "python",
     "metadata": {},
     "outputs": [
      {
       "metadata": {},
       "output_type": "pyout",
       "prompt_number": 88,
       "text": [
        "Country Name\n",
        "Switzerland       1\n",
        "Canada            2\n",
        "Norway            3\n",
        "Sweden            4\n",
        "Germany           5\n",
        "United States     6\n",
        "Denmark           7\n",
        "Australia         8\n",
        "Iceland           9\n",
        "New Zealand      10\n",
        "Name: Rel. Ranking, dtype: float64"
       ]
      }
     ],
     "prompt_number": 88
    },
    {
     "cell_type": "code",
     "collapsed": false,
     "input": [
      "countrydata['Rel. Ranking'].rank(ascending = False).order()[187:197]"
     ],
     "language": "python",
     "metadata": {},
     "outputs": [
      {
       "metadata": {},
       "output_type": "pyout",
       "prompt_number": 89,
       "text": [
        "Country Name\n",
        "Samoa                       188\n",
        "Fiji                        189\n",
        "Central African Republic    190\n",
        "Syria                       191\n",
        "Pakistan                    192\n",
        "Somalia                     193\n",
        "Mali                        194\n",
        "Chad                        195\n",
        "Comoros                     196\n",
        "Niger                       197\n",
        "Name: Rel. Ranking, dtype: float64"
       ]
      }
     ],
     "prompt_number": 89
    },
    {
     "cell_type": "heading",
     "level": 5,
     "metadata": {},
     "source": [
      "Analysis"
     ]
    },
    {
     "cell_type": "markdown",
     "metadata": {},
     "source": [
      "From this we can conclude that even though it did make a difference considering the relative values, the change was not a major one and thus could be ignored."
     ]
    },
    {
     "cell_type": "heading",
     "level": 1,
     "metadata": {},
     "source": [
      "Question 5"
     ]
    },
    {
     "cell_type": "markdown",
     "metadata": {},
     "source": [
      "Set up a meaningful distance function to measure how similar/difference pairs of countries are.Produce a table showing the nearest and farthest neighbor to each nation on earth?  \n",
      "\n",
      "Write a short analysis of this table describing: (a) What  kinds of similarities does your measure get right?   (b) What are the most interesting/surprising pairs to fall out of this analysis?  and (c) Where does it goof up?"
     ]
    },
    {
     "cell_type": "markdown",
     "metadata": {},
     "source": [
      "<i>Dropping all the data which is not either an integer or a float for the calculations"
     ]
    },
    {
     "cell_type": "code",
     "collapsed": false,
     "input": [
      "newCountryData = countrydata.drop(['Country Code','Government Type','Capital City','Date of Founding/Independence','Latitude of Capital','Longitude of Capital'], 1)\n",
      "Matrix = {} \n",
      "for index1, row1 in newCountryData.iterrows(): \n",
      "    Matrix[index1] = {} \n",
      "    for index2, row2 in newCountryData.iterrows(): \n",
      "        Matrix[index1][index2]=sp.spatial.distance.cosine(row1,row2)"
     ],
     "language": "python",
     "metadata": {},
     "outputs": [],
     "prompt_number": 135
    },
    {
     "cell_type": "code",
     "collapsed": false,
     "input": [
      "countrydata_dist = DataFrame.from_dict(Matrix)\n",
      "def dist_function(newCountryData): \n",
      "    df_farnear = {} \n",
      "    dictionary= newCountryData.to_dict() \n",
      "    for key, data in dictionary.iteritems(): \n",
      "        data.pop(key, None) \n",
      "        for variable, var in data.iteritems():\n",
      "            max_distance = var\n",
      "            min_distance = var\n",
      "            break\n",
      "        dist_Dict = {} \n",
      "        for variable, var in data.iteritems(): \n",
      "            if var < min_distance : \n",
      "                dist_Dict['strongest'] = variable\n",
      "                min_distance = var \n",
      "            if var > max_distance : \n",
      "                dist_Dict['weakest'] = variable\n",
      "                max_distance = var\n",
      "        df_farnear[key]=dist_Dict \n",
      "    return df_farnear"
     ],
     "language": "python",
     "metadata": {},
     "outputs": [],
     "prompt_number": 136
    },
    {
     "cell_type": "code",
     "collapsed": false,
     "input": [
      "dist_function(countrydata_dist)"
     ],
     "language": "python",
     "metadata": {},
     "outputs": [
      {
       "metadata": {},
       "output_type": "pyout",
       "prompt_number": 137,
       "text": [
        "{'Afghanistan': {'strongest': 'Burkina Faso', 'weakest': 'Nauru'},\n",
        " 'Albania': {'strongest': 'Macedonia', 'weakest': 'Nauru'},\n",
        " 'Algeria': {'strongest': 'Iraq', 'weakest': 'Nauru'},\n",
        " 'Andorra': {'strongest': 'Seychelles', 'weakest': 'Nauru'},\n",
        " 'Angola': {'strongest': 'Bhutan', 'weakest': 'Nauru'},\n",
        " 'Antigua and Barbuda': {'strongest': 'Latvia', 'weakest': 'Nauru'},\n",
        " 'Argentina': {'strongest': 'Cyprus', 'weakest': 'Nauru'},\n",
        " 'Armenia': {'strongest': 'Angola', 'weakest': 'Nauru'},\n",
        " 'Australia': {'weakest': 'Nauru'},\n",
        " 'Austria': {'strongest': 'Ireland', 'weakest': 'Nauru'},\n",
        " 'Azerbaijan': {'strongest': 'Ecuador', 'weakest': 'Nauru'},\n",
        " 'Bahamas, The': {'strongest': 'United Arab Emirates', 'weakest': 'Nauru'},\n",
        " 'Bahrain': {'strongest': 'Greece', 'weakest': 'Nauru'},\n",
        " 'Bangladesh': {'strongest': 'Gambia, The', 'weakest': 'Nauru'},\n",
        " 'Barbados': {'strongest': 'Slovakia', 'weakest': 'Nauru'},\n",
        " 'Belarus': {'strongest': 'Mauritius', 'weakest': 'Nauru'},\n",
        " 'Belgium': {'strongest': 'Germany', 'weakest': 'Nauru'},\n",
        " 'Belize': {'strongest': 'Ecuador', 'weakest': 'Nauru'},\n",
        " 'Benin': {'strongest': 'Sierra Leone', 'weakest': 'Nauru'},\n",
        " 'Bhutan': {'strongest': 'Angola', 'weakest': 'Nauru'},\n",
        " 'Bolivia': {'strongest': 'Indonesia', 'weakest': 'Nauru'},\n",
        " 'Bosnia and Herzegovina': {'strongest': 'Albania', 'weakest': 'Nauru'},\n",
        " 'Botswana': {'strongest': 'Russia', 'weakest': 'Nauru'},\n",
        " 'Brazil': {'strongest': 'Peru', 'weakest': 'Nauru'},\n",
        " 'Brunei': {'strongest': 'United States', 'weakest': 'Nauru'},\n",
        " 'Bulgaria': {'strongest': 'Malaysia', 'weakest': 'Nauru'},\n",
        " 'Burkina Faso': {'strongest': 'Sierra Leone', 'weakest': 'Nauru'},\n",
        " 'Burma': {'strongest': 'Bangladesh', 'weakest': 'Nauru'},\n",
        " 'Burundi': {'strongest': 'Somalia', 'weakest': 'Nauru'},\n",
        " 'Cabo Verde': {'strongest': 'Moldova', 'weakest': 'Nauru'},\n",
        " 'Cambodia': {'strongest': 'Cameroon', 'weakest': 'Nauru'},\n",
        " 'Cameroon': {'strongest': 'Chad', 'weakest': 'Nauru'},\n",
        " 'Canada': {'strongest': 'Australia', 'weakest': 'Nauru'},\n",
        " 'Central African Republic': {'strongest': 'Somalia', 'weakest': 'Nauru'},\n",
        " 'Chad': {'strongest': 'Sudan', 'weakest': 'Nauru'},\n",
        " 'Chile': {'strongest': 'Cyprus', 'weakest': 'Nauru'},\n",
        " 'China': {'strongest': 'Thailand', 'weakest': 'Nauru'},\n",
        " 'Colombia': {'strongest': 'Macedonia', 'weakest': 'Nauru'},\n",
        " 'Comoros': {'strongest': 'Guinea-Bissau', 'weakest': 'Nauru'},\n",
        " 'Congo, Democratic Republic of the': {'strongest': 'Burundi',\n",
        "  'weakest': 'Nauru'},\n",
        " 'Congo, Republic of the': {'strongest': 'Nicaragua', 'weakest': 'Nauru'},\n",
        " 'Costa Rica': {'strongest': 'Romania', 'weakest': 'Nauru'},\n",
        " \"Cote d'Ivoire\": {'strongest': 'Gambia, The', 'weakest': 'Nauru'},\n",
        " 'Croatia': {'strongest': 'Malaysia', 'weakest': 'Nauru'},\n",
        " 'Cuba': {'strongest': 'Azerbaijan', 'weakest': 'Nauru'},\n",
        " 'Cyprus': {'strongest': 'Argentina', 'weakest': 'Nauru'},\n",
        " 'Czech Republic': {'strongest': 'Slovenia', 'weakest': 'Nauru'},\n",
        " 'Denmark': {'strongest': 'United Kingdom', 'weakest': 'Nauru'},\n",
        " 'Djibouti': {'strongest': 'Solomon Islands', 'weakest': 'Nauru'},\n",
        " 'Dominica': {'strongest': 'Turkey', 'weakest': 'Nauru'},\n",
        " 'Dominican Republic': {'strongest': 'Ecuador', 'weakest': 'Nauru'},\n",
        " 'Ecuador': {'strongest': 'Azerbaijan', 'weakest': 'Nauru'},\n",
        " 'Egypt': {'strongest': 'Syria', 'weakest': 'Nauru'},\n",
        " 'El Salvador': {'strongest': 'Ukraine', 'weakest': 'Nauru'},\n",
        " 'Equatorial Guinea': {'strongest': 'Saudi Arabia', 'weakest': 'Nauru'},\n",
        " 'Eritrea': {'strongest': 'Liberia', 'weakest': 'Nauru'},\n",
        " 'Estonia': {'strongest': 'Slovakia', 'weakest': 'Nauru'},\n",
        " 'Ethiopia': {'strongest': 'Mozambique', 'weakest': 'Nauru'},\n",
        " 'Fiji': {'strongest': 'Indonesia', 'weakest': 'Nauru'},\n",
        " 'Finland': {'strongest': 'Denmark', 'weakest': 'Nauru'},\n",
        " 'France': {'strongest': 'Japan', 'weakest': 'Nauru'},\n",
        " 'Gabon': {'strongest': 'Timor-Leste', 'weakest': 'Nauru'},\n",
        " 'Gambia, The': {'strongest': \"Cote d'Ivoire\", 'weakest': 'Nauru'},\n",
        " 'Georgia': {'strongest': 'Guatemala', 'weakest': 'Nauru'},\n",
        " 'Germany': {'strongest': 'Sweden', 'weakest': 'Nauru'},\n",
        " 'Ghana': {'strongest': 'Djibouti', 'weakest': 'Nauru'},\n",
        " 'Greece': {'strongest': 'Czech Republic', 'weakest': 'Nauru'},\n",
        " 'Greenland': {'strongest': 'Mongolia', 'weakest': 'Nauru'},\n",
        " 'Grenada': {'strongest': 'Costa Rica', 'weakest': 'Nauru'},\n",
        " 'Guatemala': {'strongest': 'Syria', 'weakest': 'Nauru'},\n",
        " 'Guinea': {'strongest': 'Mozambique', 'weakest': 'Nauru'},\n",
        " 'Guinea-Bissau': {'strongest': 'Comoros', 'weakest': 'Nauru'},\n",
        " 'Guyana': {'strongest': 'Namibia', 'weakest': 'Nauru'},\n",
        " 'Haiti': {'strongest': 'Nepal', 'weakest': 'Nauru'},\n",
        " 'Honduras': {'strongest': 'Vanuatu', 'weakest': 'Nauru'},\n",
        " 'Hungary': {'strongest': 'Lithuania', 'weakest': 'Nauru'},\n",
        " 'Iceland': {'weakest': 'Nauru'},\n",
        " 'India': {'strongest': 'Philippines', 'weakest': 'Nauru'},\n",
        " 'Indonesia': {'strongest': 'Vanuatu', 'weakest': 'Nauru'},\n",
        " 'Iran': {'strongest': 'South Africa', 'weakest': 'Nauru'},\n",
        " 'Iraq': {'strongest': 'Algeria', 'weakest': 'Nauru'},\n",
        " 'Ireland': {'strongest': 'Taiwan', 'weakest': 'Nauru'},\n",
        " 'Israel': {'strongest': 'France', 'weakest': 'Nauru'},\n",
        " 'Italy': {'strongest': 'Spain', 'weakest': 'Nauru'},\n",
        " 'Jamaica': {'strongest': 'Bosnia and Herzegovina', 'weakest': 'Nauru'},\n",
        " 'Japan': {'strongest': 'United Kingdom', 'weakest': 'Nauru'},\n",
        " 'Jordan': {'strongest': 'Guatemala', 'weakest': 'Nauru'},\n",
        " 'Kazakhstan': {'strongest': 'Venezuela', 'weakest': 'Nauru'},\n",
        " 'Kenya': {'strongest': 'Zambia', 'weakest': 'Nauru'},\n",
        " 'Kiribati': {'strongest': 'Marshall Islands', 'weakest': 'Nauru'},\n",
        " 'Korea, North': {'strongest': 'Uganda', 'weakest': 'Nauru'},\n",
        " 'Korea, South': {'strongest': 'Finland', 'weakest': 'Nauru'},\n",
        " 'Kosovo': {'strongest': 'Korea, North', 'weakest': 'Nauru'},\n",
        " 'Kuwait': {'strongest': 'Singapore', 'weakest': 'Nauru'},\n",
        " 'Kyrgyzstan': {'strongest': 'Nigeria', 'weakest': 'Nauru'},\n",
        " 'Laos': {'strongest': 'Papua New Guinea', 'weakest': 'Nauru'},\n",
        " 'Latvia': {'strongest': 'Malaysia', 'weakest': 'Nauru'},\n",
        " 'Lebanon': {'strongest': 'Iran', 'weakest': 'Nauru'},\n",
        " 'Lesotho': {'strongest': 'Cameroon', 'weakest': 'Nauru'},\n",
        " 'Liberia': {'strongest': 'Eritrea', 'weakest': 'Nauru'},\n",
        " 'Libya': {'strongest': 'Suriname', 'weakest': 'Nauru'},\n",
        " 'Liechtenstein': {'strongest': 'Monaco', 'weakest': 'Nauru'},\n",
        " 'Lithuania': {'strongest': 'Hungary', 'weakest': 'Nauru'},\n",
        " 'Luxembourg': {'strongest': 'Singapore', 'weakest': 'Nauru'},\n",
        " 'Macedonia': {'strongest': 'Colombia', 'weakest': 'Nauru'},\n",
        " 'Madagascar': {'strongest': 'Togo', 'weakest': 'Nauru'},\n",
        " 'Malawi': {'strongest': 'Madagascar', 'weakest': 'Nauru'},\n",
        " 'Malaysia': {'strongest': 'Croatia', 'weakest': 'Nauru'},\n",
        " 'Maldives': {'strongest': 'El Salvador', 'weakest': 'Nauru'},\n",
        " 'Mali': {'strongest': 'Comoros', 'weakest': 'Nauru'},\n",
        " 'Malta': {'strongest': 'Slovenia', 'weakest': 'Nauru'},\n",
        " 'Marshall Islands': {'strongest': 'Kiribati', 'weakest': 'Nauru'},\n",
        " 'Mauritania': {'strongest': 'Chad', 'weakest': 'Nauru'},\n",
        " 'Mauritius': {'strongest': 'Mexico', 'weakest': 'Nauru'},\n",
        " 'Mexico': {'strongest': 'Mauritius', 'weakest': 'Nauru'},\n",
        " 'Micronesia, Federated States of': {'strongest': 'Kiribati',\n",
        "  'weakest': 'Nauru'},\n",
        " 'Moldova': {'strongest': 'Cabo Verde', 'weakest': 'Nauru'},\n",
        " 'Monaco': {'strongest': 'Liechtenstein', 'weakest': 'Nauru'},\n",
        " 'Mongolia': {'strongest': 'Namibia', 'weakest': 'Nauru'},\n",
        " 'Montenegro': {'strongest': 'Colombia', 'weakest': 'Nauru'},\n",
        " 'Morocco': {'strongest': 'Georgia', 'weakest': 'Nauru'},\n",
        " 'Mozambique': {'strongest': 'Ethiopia', 'weakest': 'Nauru'},\n",
        " 'Namibia': {'strongest': 'Guyana', 'weakest': 'Nauru'},\n",
        " 'Nauru': {'strongest': 'South Sudan', 'weakest': 'Palau'},\n",
        " 'Nepal': {'strongest': 'Haiti', 'weakest': 'Nauru'},\n",
        " 'Netherlands': {'strongest': 'Sweden', 'weakest': 'Nauru'},\n",
        " 'New Zealand': {'strongest': 'Slovenia', 'weakest': 'Nauru'},\n",
        " 'Nicaragua': {'strongest': 'Vanuatu', 'weakest': 'Nauru'},\n",
        " 'Niger': {'strongest': 'Malawi', 'weakest': 'Nauru'},\n",
        " 'Nigeria': {'strongest': 'Pakistan', 'weakest': 'Nauru'},\n",
        " 'Norway': {'strongest': 'United States', 'weakest': 'Nauru'},\n",
        " 'Oman': {'strongest': 'Italy', 'weakest': 'Nauru'},\n",
        " 'Pakistan': {'strongest': 'Djibouti', 'weakest': 'Nauru'},\n",
        " 'Palau': {'strongest': 'Tuvalu', 'weakest': 'Nauru'},\n",
        " 'Panama': {'strongest': 'Argentina', 'weakest': 'Nauru'},\n",
        " 'Papua New Guinea': {'strongest': 'Laos', 'weakest': 'Nauru'},\n",
        " 'Paraguay': {'strongest': 'Armenia', 'weakest': 'Nauru'},\n",
        " 'Peru': {'strongest': 'Brazil', 'weakest': 'Nauru'},\n",
        " 'Philippines': {'strongest': 'India', 'weakest': 'Nauru'},\n",
        " 'Poland': {'strongest': 'Hungary', 'weakest': 'Nauru'},\n",
        " 'Portugal': {'strongest': 'Trinidad and Tobago', 'weakest': 'Nauru'},\n",
        " 'Qatar': {'strongest': 'Luxembourg', 'weakest': 'Nauru'},\n",
        " 'Romania': {'strongest': 'Costa Rica', 'weakest': 'Nauru'},\n",
        " 'Russia': {'strongest': 'Panama', 'weakest': 'Nauru'},\n",
        " 'Rwanda': {'strongest': 'Burkina Faso', 'weakest': 'Nauru'},\n",
        " 'Saint Kitts and Nevis': {'strongest': 'Seychelles', 'weakest': 'Nauru'},\n",
        " 'Saint Lucia': {'strongest': 'Saint Vincent and the Grenadines',\n",
        "  'weakest': 'Nauru'},\n",
        " 'Saint Vincent and the Grenadines': {'strongest': 'Saint Lucia',\n",
        "  'weakest': 'Nauru'},\n",
        " 'Samoa': {'strongest': 'Sri Lanka', 'weakest': 'Nauru'},\n",
        " 'San Marino': {'strongest': 'Liechtenstein', 'weakest': 'Nauru'},\n",
        " 'Sao Tome and Principe': {'strongest': 'Yemen', 'weakest': 'Nauru'},\n",
        " 'Saudi Arabia': {'strongest': 'Oman', 'weakest': 'Nauru'},\n",
        " 'Senegal': {'strongest': 'Gambia, The', 'weakest': 'Nauru'},\n",
        " 'Serbia': {'strongest': 'Montenegro', 'weakest': 'Nauru'},\n",
        " 'Seychelles': {'strongest': 'Malta', 'weakest': 'Nauru'},\n",
        " 'Sierra Leone': {'strongest': 'Benin', 'weakest': 'Nauru'},\n",
        " 'Singapore': {'strongest': 'Kuwait', 'weakest': 'Nauru'},\n",
        " 'Slovakia': {'strongest': 'Estonia', 'weakest': 'Nauru'},\n",
        " 'Slovenia': {'strongest': 'Spain', 'weakest': 'Nauru'},\n",
        " 'Solomon Islands': {'strongest': 'Djibouti', 'weakest': 'Nauru'},\n",
        " 'Somalia': {'strongest': 'Burundi', 'weakest': 'Nauru'},\n",
        " 'South Africa': {'strongest': 'Iran', 'weakest': 'Nauru'},\n",
        " 'South Sudan': {'strongest': 'Korea, North', 'weakest': 'Nauru'},\n",
        " 'Spain': {'strongest': 'Slovenia', 'weakest': 'Nauru'},\n",
        " 'Sri Lanka': {'strongest': 'Armenia', 'weakest': 'Nauru'},\n",
        " 'Sudan': {'strongest': 'Chad', 'weakest': 'Nauru'},\n",
        " 'Suriname': {'strongest': 'Libya', 'weakest': 'Nauru'},\n",
        " 'Swaziland': {'strongest': 'Honduras', 'weakest': 'Nauru'},\n",
        " 'Sweden': {'strongest': 'Germany', 'weakest': 'Nauru'},\n",
        " 'Switzerland': {'strongest': 'Austria', 'weakest': 'Nauru'},\n",
        " 'Syria': {'strongest': 'Egypt', 'weakest': 'Nauru'},\n",
        " 'Taiwan': {'strongest': 'Belgium', 'weakest': 'Nauru'},\n",
        " 'Tajikistan': {'strongest': 'Yemen', 'weakest': 'Nauru'},\n",
        " 'Tanzania': {'strongest': 'Uganda', 'weakest': 'Nauru'},\n",
        " 'Thailand': {'strongest': 'China', 'weakest': 'Nauru'},\n",
        " 'Timor-Leste': {'strongest': 'Equatorial Guinea', 'weakest': 'Nauru'},\n",
        " 'Togo': {'strongest': 'Madagascar', 'weakest': 'Nauru'},\n",
        " 'Tonga': {'strongest': 'El Salvador', 'weakest': 'Nauru'},\n",
        " 'Trinidad and Tobago': {'strongest': 'Portugal', 'weakest': 'Nauru'},\n",
        " 'Tunisia': {'strongest': 'Dominican Republic', 'weakest': 'Nauru'},\n",
        " 'Turkey': {'strongest': 'Mexico', 'weakest': 'Nauru'},\n",
        " 'Turkmenistan': {'strongest': 'Cuba', 'weakest': 'Nauru'},\n",
        " 'Tuvalu': {'strongest': 'Palau', 'weakest': 'Nauru'},\n",
        " 'Uganda': {'strongest': 'Tanzania', 'weakest': 'Nauru'},\n",
        " 'Ukraine': {'strongest': 'El Salvador', 'weakest': 'Nauru'},\n",
        " 'United Arab Emirates': {'strongest': 'Switzerland', 'weakest': 'Nauru'},\n",
        " 'United Kingdom': {'strongest': 'Denmark', 'weakest': 'Nauru'},\n",
        " 'United States': {'strongest': 'Norway', 'weakest': 'Nauru'},\n",
        " 'Uruguay': {'strongest': 'Malaysia', 'weakest': 'Nauru'},\n",
        " 'Uzbekistan': {'strongest': 'Vietnam', 'weakest': 'Nauru'},\n",
        " 'Vanuatu': {'strongest': 'Honduras', 'weakest': 'Nauru'},\n",
        " 'Venezuela': {'strongest': 'Romania', 'weakest': 'Nauru'},\n",
        " 'Vietnam': {'strongest': 'Uzbekistan', 'weakest': 'Nauru'},\n",
        " 'Western Sahara': {'strongest': 'Kosovo', 'weakest': 'Nauru'},\n",
        " 'Yemen': {'strongest': 'Tajikistan', 'weakest': 'Nauru'},\n",
        " 'Zambia': {'strongest': 'Kenya', 'weakest': 'Nauru'},\n",
        " 'Zimbabwe': {'strongest': 'Somalia', 'weakest': 'Nauru'}}"
       ]
      }
     ],
     "prompt_number": 137
    },
    {
     "cell_type": "markdown",
     "metadata": {},
     "source": [
      "This data shows that each country has different strongest pair whereas every country is weakly linked with Nauru. "
     ]
    },
    {
     "cell_type": "code",
     "collapsed": false,
     "input": [],
     "language": "python",
     "metadata": {},
     "outputs": []
    }
   ],
   "metadata": {}
  }
 ]
}
